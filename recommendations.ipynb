{
 "cells": [
  {
   "cell_type": "markdown",
   "metadata": {},
   "source": [
    "### Imports"
   ]
  },
  {
   "cell_type": "code",
   "execution_count": 1,
   "metadata": {},
   "outputs": [],
   "source": [
    "from math import sqrt\n",
    "import pandas as pd\n",
    "from os import path"
   ]
  },
  {
   "cell_type": "markdown",
   "metadata": {},
   "source": [
    "### Read and Create Database"
   ]
  },
  {
   "cell_type": "code",
   "execution_count": 2,
   "metadata": {},
   "outputs": [],
   "source": [
    "DATA_PATH = path.dirname(path.realpath(\"__file__\"))\n",
    "DATA = path.join(DATA_PATH, 'data')"
   ]
  },
  {
   "cell_type": "code",
   "execution_count": 3,
   "metadata": {},
   "outputs": [],
   "source": [
    "def read_data(data_path):\n",
    "    data_ratings = pd.read_csv(data_path + r'\\ratings.csv')\n",
    "    data_movies = pd.read_csv(data_path + r'\\movies.csv')\n",
    "    data = pd.merge(left = data_ratings, right = data_movies, on = 'movieId')\n",
    "    data.drop(['timestamp', 'genres'], axis = 1, inplace = True)\n",
    "    return data\n",
    "\n",
    "data = read_data(DATA)"
   ]
  },
  {
   "cell_type": "code",
   "execution_count": 4,
   "metadata": {},
   "outputs": [
    {
     "data": {
      "text/html": [
       "<div>\n",
       "<style scoped>\n",
       "    .dataframe tbody tr th:only-of-type {\n",
       "        vertical-align: middle;\n",
       "    }\n",
       "\n",
       "    .dataframe tbody tr th {\n",
       "        vertical-align: top;\n",
       "    }\n",
       "\n",
       "    .dataframe thead th {\n",
       "        text-align: right;\n",
       "    }\n",
       "</style>\n",
       "<table border=\"1\" class=\"dataframe\">\n",
       "  <thead>\n",
       "    <tr style=\"text-align: right;\">\n",
       "      <th></th>\n",
       "      <th>userId</th>\n",
       "      <th>movieId</th>\n",
       "      <th>rating</th>\n",
       "      <th>title</th>\n",
       "    </tr>\n",
       "  </thead>\n",
       "  <tbody>\n",
       "    <tr>\n",
       "      <th>0</th>\n",
       "      <td>1</td>\n",
       "      <td>1</td>\n",
       "      <td>4.0</td>\n",
       "      <td>Toy Story (1995)</td>\n",
       "    </tr>\n",
       "    <tr>\n",
       "      <th>1</th>\n",
       "      <td>1</td>\n",
       "      <td>3</td>\n",
       "      <td>4.0</td>\n",
       "      <td>Grumpier Old Men (1995)</td>\n",
       "    </tr>\n",
       "    <tr>\n",
       "      <th>2</th>\n",
       "      <td>1</td>\n",
       "      <td>6</td>\n",
       "      <td>4.0</td>\n",
       "      <td>Heat (1995)</td>\n",
       "    </tr>\n",
       "    <tr>\n",
       "      <th>3</th>\n",
       "      <td>1</td>\n",
       "      <td>47</td>\n",
       "      <td>5.0</td>\n",
       "      <td>Seven (a.k.a. Se7en) (1995)</td>\n",
       "    </tr>\n",
       "    <tr>\n",
       "      <th>4</th>\n",
       "      <td>1</td>\n",
       "      <td>50</td>\n",
       "      <td>5.0</td>\n",
       "      <td>Usual Suspects, The (1995)</td>\n",
       "    </tr>\n",
       "  </tbody>\n",
       "</table>\n",
       "</div>"
      ],
      "text/plain": [
       "   userId  movieId  rating                        title\n",
       "0       1        1     4.0             Toy Story (1995)\n",
       "1       1        3     4.0      Grumpier Old Men (1995)\n",
       "2       1        6     4.0                  Heat (1995)\n",
       "3       1       47     5.0  Seven (a.k.a. Se7en) (1995)\n",
       "4       1       50     5.0   Usual Suspects, The (1995)"
      ]
     },
     "execution_count": 4,
     "metadata": {},
     "output_type": "execute_result"
    }
   ],
   "source": [
    "data.head()"
   ]
  },
  {
   "cell_type": "markdown",
   "metadata": {},
   "source": [
    "We can generate two ```dict``` database structures:\n",
    "\n",
    "1. The first contains the users as a primary key, followed by each movie that the given user saw and its rating. \n",
    "The first one will be used to compute the User-Based approach.\n",
    "2. The second contains the movie as primary key, followed by each user that saw the movie and its rating. \n",
    "The second one will be used to compute the Item-Based approach.\n",
    "\n",
    "_Note: We could also work with a MultiIndex Pandas DataFrame._"
   ]
  },
  {
   "cell_type": "code",
   "execution_count": 5,
   "metadata": {},
   "outputs": [],
   "source": [
    "def generate_dicts(data):\n",
    "    users_dict = data.groupby('userId')[['title','rating']].apply(lambda x: dict(x.values.tolist())).to_dict()\n",
    "    movies_dict = data.groupby('title')[['userId','rating']].apply(lambda x: dict(x.values.tolist())).to_dict()\n",
    "    return users_dict, movies_dict\n",
    "\n",
    "users_dict, movies_dict = generate_dicts(data)"
   ]
  },
  {
   "cell_type": "code",
   "execution_count": 18,
   "metadata": {},
   "outputs": [
    {
     "data": {
      "text/plain": [
       "{2: {'Shawshank Redemption, The (1994)': 3.0,\n",
       "  'Tommy Boy (1995)': 4.0,\n",
       "  'Good Will Hunting (1997)': 4.5,\n",
       "  'Gladiator (2000)': 4.0,\n",
       "  'Kill Bill: Vol. 1 (2003)': 4.0,\n",
       "  'Collateral (2004)': 3.5,\n",
       "  'Talladega Nights: The Ballad of Ricky Bobby (2006)': 4.0,\n",
       "  'Departed, The (2006)': 4.0,\n",
       "  'Dark Knight, The (2008)': 4.5,\n",
       "  'Step Brothers (2008)': 5.0,\n",
       "  'Inglourious Basterds (2009)': 4.5,\n",
       "  'Zombieland (2009)': 3.0,\n",
       "  'Shutter Island (2010)': 4.0,\n",
       "  'Exit Through the Gift Shop (2010)': 3.0,\n",
       "  'Inception (2010)': 4.0,\n",
       "  'Town, The (2010)': 4.5,\n",
       "  'Inside Job (2010)': 5.0,\n",
       "  'Louis C.K.: Hilarious (2010)': 4.0,\n",
       "  'Warrior (2011)': 5.0,\n",
       "  'Dark Knight Rises, The (2012)': 3.5,\n",
       "  'Girl with the Dragon Tattoo, The (2011)': 2.5,\n",
       "  'Django Unchained (2012)': 3.5,\n",
       "  'Wolf of Wall Street, The (2013)': 5.0,\n",
       "  'Interstellar (2014)': 3.0,\n",
       "  'Whiplash (2014)': 4.0,\n",
       "  'The Drop (2014)': 2.0,\n",
       "  'Ex Machina (2015)': 3.5,\n",
       "  'Mad Max: Fury Road (2015)': 5.0,\n",
       "  'The Jinx: The Life and Deaths of Robert Durst (2015)': 5.0},\n",
       " 3: {'Dangerous Minds (1995)': 0.5,\n",
       "  \"Schindler's List (1993)\": 0.5,\n",
       "  'Courage Under Fire (1996)': 0.5,\n",
       "  'Operation Dumbo Drop (1995)': 0.5,\n",
       "  'Wallace & Gromit: The Best of Aardman Animation (1996)': 0.5,\n",
       "  'Escape from L.A. (1996)': 5.0,\n",
       "  'My Fair Lady (1964)': 0.5,\n",
       "  'Doors, The (1991)': 0.5,\n",
       "  'On Golden Pond (1981)': 0.5,\n",
       "  'Deer Hunter, The (1978)': 0.5,\n",
       "  'Patton (1970)': 0.5,\n",
       "  'Highlander (1986)': 3.5,\n",
       "  'Field of Dreams (1989)': 0.5,\n",
       "  'Star Trek: The Motion Picture (1979)': 3.0,\n",
       "  'Conan the Barbarian (1982)': 4.5,\n",
       "  'Bambi (1942)': 0.5,\n",
       "  'Lady and the Tramp (1955)': 0.5,\n",
       "  'Rescuers, The (1977)': 0.5,\n",
       "  'Tron (1982)': 2.0,\n",
       "  'Thing, The (1982)': 4.0,\n",
       "  \"You've Got Mail (1998)\": 0.5,\n",
       "  'Saturn 3 (1980)': 5.0,\n",
       "  'Piranha (1978)': 4.5,\n",
       "  'Fast Times at Ridgemont High (1982)': 0.5,\n",
       "  'Road Warrior, The (Mad Max 2) (1981)': 5.0,\n",
       "  'Requiem for a Dream (2000)': 0.5,\n",
       "  'The Lair of the White Worm (1988)': 5.0,\n",
       "  'Snow Dogs (2002)': 0.5,\n",
       "  'Hangar 18 (1980)': 5.0,\n",
       "  'Galaxy of Terror (Quest) (1981)': 5.0,\n",
       "  'Looker (1981)': 4.5,\n",
       "  'Android (1982)': 5.0,\n",
       "  'Green Card (1990)': 0.5,\n",
       "  'Alien Contamination (1980)': 5.0,\n",
       "  'Master of the Flying Guillotine (Du bi quan wang da po xue di zi) (1975)': 4.5,\n",
       "  'Death Race 2000 (1975)': 5.0,\n",
       "  'Clonus Horror, The (1979)': 4.5,\n",
       "  'Troll 2 (1990)': 5.0,\n",
       "  '2012 (2009)': 0.5}}"
      ]
     },
     "execution_count": 18,
     "metadata": {},
     "output_type": "execute_result"
    }
   ],
   "source": [
    "# Users dict containing each user, the movies rated, and the rate given\n",
    "dict(list(users_dict.items())[1:3])"
   ]
  },
  {
   "cell_type": "code",
   "execution_count": 21,
   "metadata": {},
   "outputs": [
    {
     "data": {
      "text/plain": [
       "{'Cowboy Bebop: The Movie (Cowboy Bebop: Tengoku no Tobira) (2001)': {91.0: 4.5,\n",
       "  167.0: 5.0,\n",
       "  184.0: 4.0,\n",
       "  187.0: 3.5,\n",
       "  219.0: 3.5,\n",
       "  232.0: 2.5,\n",
       "  260.0: 3.5,\n",
       "  298.0: 4.5,\n",
       "  320.0: 3.5,\n",
       "  371.0: 4.5,\n",
       "  387.0: 3.5,\n",
       "  414.0: 4.0,\n",
       "  428.0: 3.5,\n",
       "  438.0: 4.5,\n",
       "  477.0: 4.5,\n",
       "  483.0: 4.5,\n",
       "  522.0: 4.0,\n",
       "  580.0: 2.0,\n",
       "  599.0: 4.0,\n",
       "  610.0: 4.5},\n",
       " 'Cowboy Way, The (1994)': {217.0: 3.0,\n",
       "  234.0: 3.0,\n",
       "  294.0: 3.0,\n",
       "  368.0: 2.0,\n",
       "  414.0: 2.0,\n",
       "  555.0: 4.0,\n",
       "  599.0: 2.0},\n",
       " 'Cowboys & Aliens (2011)': {246.0: 4.0,\n",
       "  249.0: 3.0,\n",
       "  292.0: 3.0,\n",
       "  298.0: 2.0,\n",
       "  339.0: 3.0,\n",
       "  380.0: 4.0,\n",
       "  448.0: 1.5,\n",
       "  534.0: 3.5,\n",
       "  610.0: 3.0}}"
      ]
     },
     "execution_count": 21,
     "metadata": {},
     "output_type": "execute_result"
    }
   ],
   "source": [
    "# Movies dict containing each movie, the userId and the given rating\n",
    "dict(list(movies_dict.items())[2001:2004])"
   ]
  },
  {
   "cell_type": "markdown",
   "metadata": {},
   "source": [
    "### Search for similar users"
   ]
  },
  {
   "cell_type": "markdown",
   "metadata": {},
   "source": [
    "* Compute Euclidean Distance\n",
    "* Use the Euclidian Distance to search for the most similar users"
   ]
  },
  {
   "cell_type": "markdown",
   "metadata": {},
   "source": [
    "\\begin{equation}\n",
    "    D(x, y) = \\sqrt{\\sum_{i}^{n} (x_{i} - y_{i})^2}\n",
    "\\end{equation}"
   ]
  },
  {
   "cell_type": "code",
   "execution_count": 23,
   "metadata": {},
   "outputs": [],
   "source": [
    "def euclidian_distance(data, user1, user2):\n",
    "    # Stores the similarity of the movies watched by both users\n",
    "    similarity = {}\n",
    "    # Checks which movies the users saw \n",
    "    for movie in data[user1]:\n",
    "        if movie in data[user2]:\n",
    "            similarity[movie] = 1\n",
    "    # If the users didn't watch any common movie, returns zero\n",
    "    if len(similarity) == 0:\n",
    "        return 0\n",
    "    # Calculates the similarity of the movies watched by both users based on the Euclidean Distance\n",
    "    summation = sum([pow(data[user1][movie] - data[user2][movie], 2)\n",
    "               for movie in data[user1] if movie in data[user2]]) \n",
    "    return 1 / (1 + sqrt(summation))"
   ]
  },
  {
   "cell_type": "code",
   "execution_count": 24,
   "metadata": {},
   "outputs": [],
   "source": [
    "def get_similar(data, user):\n",
    "    # Returns the similarity of one given user compared with all other users stored in the database\n",
    "    similarity = [(euclidian_distance(data, user, other_user), other_user) \n",
    "                  for other_user in data if other_user != user]\n",
    "    similarity.sort()\n",
    "    similarity.reverse()\n",
    "    return similarity[:10]"
   ]
  },
  {
   "cell_type": "code",
   "execution_count": 27,
   "metadata": {},
   "outputs": [
    {
     "name": "stdout",
     "output_type": "stream",
     "text": [
      "Euclidian Distance (similarity) between the users 1 and 2: 0.4142135623730951\n"
     ]
    }
   ],
   "source": [
    "# Computes the similarity of the user 1 and 2\n",
    "print(f\"Euclidian Distance (similarity) between the users 1 and 2: {euclidian_distance(users_dict, 1, 2)}\")"
   ]
  },
  {
   "cell_type": "code",
   "execution_count": 28,
   "metadata": {},
   "outputs": [
    {
     "data": {
      "text/html": [
       "<div>\n",
       "<style scoped>\n",
       "    .dataframe tbody tr th:only-of-type {\n",
       "        vertical-align: middle;\n",
       "    }\n",
       "\n",
       "    .dataframe tbody tr th {\n",
       "        vertical-align: top;\n",
       "    }\n",
       "\n",
       "    .dataframe thead th {\n",
       "        text-align: right;\n",
       "    }\n",
       "</style>\n",
       "<table border=\"1\" class=\"dataframe\">\n",
       "  <thead>\n",
       "    <tr style=\"text-align: right;\">\n",
       "      <th></th>\n",
       "      <th>Similarity</th>\n",
       "      <th>userId</th>\n",
       "    </tr>\n",
       "  </thead>\n",
       "  <tbody>\n",
       "    <tr>\n",
       "      <th>0</th>\n",
       "      <td>1.0</td>\n",
       "      <td>538</td>\n",
       "    </tr>\n",
       "    <tr>\n",
       "      <th>1</th>\n",
       "      <td>1.0</td>\n",
       "      <td>533</td>\n",
       "    </tr>\n",
       "    <tr>\n",
       "      <th>2</th>\n",
       "      <td>1.0</td>\n",
       "      <td>496</td>\n",
       "    </tr>\n",
       "    <tr>\n",
       "      <th>3</th>\n",
       "      <td>1.0</td>\n",
       "      <td>468</td>\n",
       "    </tr>\n",
       "    <tr>\n",
       "      <th>4</th>\n",
       "      <td>1.0</td>\n",
       "      <td>452</td>\n",
       "    </tr>\n",
       "    <tr>\n",
       "      <th>5</th>\n",
       "      <td>1.0</td>\n",
       "      <td>427</td>\n",
       "    </tr>\n",
       "    <tr>\n",
       "      <th>6</th>\n",
       "      <td>1.0</td>\n",
       "      <td>379</td>\n",
       "    </tr>\n",
       "    <tr>\n",
       "      <th>7</th>\n",
       "      <td>1.0</td>\n",
       "      <td>361</td>\n",
       "    </tr>\n",
       "    <tr>\n",
       "      <th>8</th>\n",
       "      <td>1.0</td>\n",
       "      <td>359</td>\n",
       "    </tr>\n",
       "    <tr>\n",
       "      <th>9</th>\n",
       "      <td>1.0</td>\n",
       "      <td>333</td>\n",
       "    </tr>\n",
       "  </tbody>\n",
       "</table>\n",
       "</div>"
      ],
      "text/plain": [
       "   Similarity  userId\n",
       "0         1.0     538\n",
       "1         1.0     533\n",
       "2         1.0     496\n",
       "3         1.0     468\n",
       "4         1.0     452\n",
       "5         1.0     427\n",
       "6         1.0     379\n",
       "7         1.0     361\n",
       "8         1.0     359\n",
       "9         1.0     333"
      ]
     },
     "execution_count": 28,
     "metadata": {},
     "output_type": "execute_result"
    }
   ],
   "source": [
    "# Returns the score of similarity and the 10 most similar users compared to the user 2\n",
    "sim_user2 = get_similar(users_dict, 2)\n",
    "pd.DataFrame(sim_user2, columns = ['Similarity', 'userId'])"
   ]
  },
  {
   "cell_type": "markdown",
   "metadata": {},
   "source": [
    "### Recommender System: User-Based Collaborative Filtering"
   ]
  },
  {
   "cell_type": "markdown",
   "metadata": {},
   "source": [
    "* Identifies recommended movies based on the similarity with other users"
   ]
  },
  {
   "cell_type": "code",
   "execution_count": 30,
   "metadata": {},
   "outputs": [],
   "source": [
    "def get_recommended_movies_ub(data, user):\n",
    "    \"\"\"\n",
    "    This function computes the User-Based approach to recommend a movie.\n",
    "    It takes as input a database and an user, and tries to predict what movies will be recommended based on the ratings of the other users.\n",
    "    \"\"\"\n",
    "    # Sum of the ratings given by each user multiplied by the similarity with the user\n",
    "    total = {}\n",
    "    # Sum of the similarity with a user given that he rated the movie\n",
    "    similarity_sum = {}\n",
    "\n",
    "    for other_users in data:\n",
    "        if other_users == user:\n",
    "            continue\n",
    "        # Calculate the similarity of the user with the other users in the database\n",
    "        similarity = euclidian_distance(data, user, other_users)\n",
    "        if similarity <= 0:\n",
    "            continue\n",
    "        # Checks each movie watched by the others that the user didn't watch\n",
    "        for movie in data[other_users]:\n",
    "            if movie not in data[user]:\n",
    "                total.setdefault(movie, 0)\n",
    "                total[movie] += data[other_users][movie] * similarity\n",
    "                similarity_sum.setdefault(movie, 0)\n",
    "                similarity_sum[movie] += similarity        \n",
    "    # Returns the predicted rate for the movies\n",
    "    rankings = [(score / similarity_sum[movie], movie) for movie, score in total.items()]\n",
    "    rankings.sort()\n",
    "    rankings.reverse()\n",
    "    return rankings[:10]"
   ]
  },
  {
   "cell_type": "code",
   "execution_count": 31,
   "metadata": {},
   "outputs": [
    {
     "data": {
      "text/html": [
       "<div>\n",
       "<style scoped>\n",
       "    .dataframe tbody tr th:only-of-type {\n",
       "        vertical-align: middle;\n",
       "    }\n",
       "\n",
       "    .dataframe tbody tr th {\n",
       "        vertical-align: top;\n",
       "    }\n",
       "\n",
       "    .dataframe thead th {\n",
       "        text-align: right;\n",
       "    }\n",
       "</style>\n",
       "<table border=\"1\" class=\"dataframe\">\n",
       "  <thead>\n",
       "    <tr style=\"text-align: right;\">\n",
       "      <th></th>\n",
       "      <th>Similarity</th>\n",
       "      <th>Movie Recommendations</th>\n",
       "    </tr>\n",
       "  </thead>\n",
       "  <tbody>\n",
       "    <tr>\n",
       "      <th>0</th>\n",
       "      <td>5.0</td>\n",
       "      <td>King of Hearts (1966)</td>\n",
       "    </tr>\n",
       "    <tr>\n",
       "      <th>1</th>\n",
       "      <td>5.0</td>\n",
       "      <td>Come and See (Idi i smotri) (1985)</td>\n",
       "    </tr>\n",
       "    <tr>\n",
       "      <th>2</th>\n",
       "      <td>5.0</td>\n",
       "      <td>Zeitgeist: Moving Forward (2011)</td>\n",
       "    </tr>\n",
       "    <tr>\n",
       "      <th>3</th>\n",
       "      <td>5.0</td>\n",
       "      <td>Wow! A Talking Fish! (1983)</td>\n",
       "    </tr>\n",
       "    <tr>\n",
       "      <th>4</th>\n",
       "      <td>5.0</td>\n",
       "      <td>World of Glory (1991)</td>\n",
       "    </tr>\n",
       "    <tr>\n",
       "      <th>5</th>\n",
       "      <td>5.0</td>\n",
       "      <td>Wonder Woman (2009)</td>\n",
       "    </tr>\n",
       "    <tr>\n",
       "      <th>6</th>\n",
       "      <td>5.0</td>\n",
       "      <td>Won't You Be My Neighbor? (2018)</td>\n",
       "    </tr>\n",
       "    <tr>\n",
       "      <th>7</th>\n",
       "      <td>5.0</td>\n",
       "      <td>Woman Under the Influence, A (1974)</td>\n",
       "    </tr>\n",
       "    <tr>\n",
       "      <th>8</th>\n",
       "      <td>5.0</td>\n",
       "      <td>Woman Is a Woman, A (femme est une femme, Une)...</td>\n",
       "    </tr>\n",
       "    <tr>\n",
       "      <th>9</th>\n",
       "      <td>5.0</td>\n",
       "      <td>Winter in Prostokvashino (1984)</td>\n",
       "    </tr>\n",
       "  </tbody>\n",
       "</table>\n",
       "</div>"
      ],
      "text/plain": [
       "   Similarity                              Movie Recommendations\n",
       "0         5.0                              King of Hearts (1966)\n",
       "1         5.0                 Come and See (Idi i smotri) (1985)\n",
       "2         5.0                   Zeitgeist: Moving Forward (2011)\n",
       "3         5.0                        Wow! A Talking Fish! (1983)\n",
       "4         5.0                              World of Glory (1991)\n",
       "5         5.0                                Wonder Woman (2009)\n",
       "6         5.0                   Won't You Be My Neighbor? (2018)\n",
       "7         5.0                Woman Under the Influence, A (1974)\n",
       "8         5.0  Woman Is a Woman, A (femme est une femme, Une)...\n",
       "9         5.0                    Winter in Prostokvashino (1984)"
      ]
     },
     "execution_count": 31,
     "metadata": {},
     "output_type": "execute_result"
    }
   ],
   "source": [
    "# Returns the top 10 most recommended movies for the user 10 using the User-Based approach\n",
    "movies_user10_ub = get_recommended_movies_ub(users_dict, 10)\n",
    "pd.DataFrame(movies_user10_ub, columns = ['Similarity', 'Movie Recommendations'])"
   ]
  },
  {
   "cell_type": "markdown",
   "metadata": {},
   "source": [
    "### Recommender System: Item-Based Collaborative Filtering"
   ]
  },
  {
   "cell_type": "markdown",
   "metadata": {},
   "source": [
    "* Identifies recommended movies based on the similarity of the movies\n",
    "* **Precompute the most similar movies and store these values** \n",
    "* The calculations are done in advance, in order to return assessments faster\n",
    "* Weighted average of similar movies"
   ]
  },
  {
   "cell_type": "code",
   "execution_count": 32,
   "metadata": {},
   "outputs": [],
   "source": [
    "def get_similar_movies(base):\n",
    "    # Returns the similarity of one given movie with all the other movies stored in the database\n",
    "    result = {}\n",
    "    for movie in base:\n",
    "        ratings = get_similar(base, movie)\n",
    "        result[movie] = ratings\n",
    "    return result"
   ]
  },
  {
   "cell_type": "code",
   "execution_count": 33,
   "metadata": {},
   "outputs": [],
   "source": [
    "# Computes the similarity between the movies\n",
    "similar_movies = get_similar_movies(movies_dict)"
   ]
  },
  {
   "cell_type": "code",
   "execution_count": 35,
   "metadata": {},
   "outputs": [
    {
     "data": {
      "text/plain": [
       "{\"'Hellboy': The Seeds of Creation (2004)\": [(1.0, 'Watchmen (2009)'),\n",
       "  (1.0, 'Usual Suspects, The (1995)'),\n",
       "  (1.0, 'Toy Story 3 (2010)'),\n",
       "  (1.0, 'Toy Story (1995)'),\n",
       "  (1.0, 'Throne of Blood (Kumonosu jô) (1957)'),\n",
       "  (1.0, 'Three Kings (1999)'),\n",
       "  (1.0, \"There's Something About Mary (1998)\"),\n",
       "  (1.0, 'There Will Be Blood (2007)'),\n",
       "  (1.0, 'Terminator, The (1984)'),\n",
       "  (1.0, 'Taxi Driver (1976)')],\n",
       " \"'Round Midnight (1986)\": [(1.0, 'Zodiac (2007)'),\n",
       "  (1.0, 'X2: X-Men United (2003)'),\n",
       "  (1.0, 'X-Men: First Class (2011)'),\n",
       "  (1.0, 'X-Men (2000)'),\n",
       "  (1.0, 'Whole Nine Yards, The (2000)'),\n",
       "  (1.0, 'Unstoppable (2010)'),\n",
       "  (1.0, 'Underworld: Awakening (2012)'),\n",
       "  (1.0, 'Traffic (2000)'),\n",
       "  (1.0, 'Thor (2011)'),\n",
       "  (1.0, 'The Hunger Games (2012)')]}"
      ]
     },
     "execution_count": 35,
     "metadata": {},
     "output_type": "execute_result"
    }
   ],
   "source": [
    "# Movies similar to each other\n",
    "dict(list(similar_movies.items())[1:3])"
   ]
  },
  {
   "cell_type": "code",
   "execution_count": 36,
   "metadata": {},
   "outputs": [],
   "source": [
    "def get_recommended_movies_ib(data, movies_similarity, user):\n",
    "    \"\"\"\n",
    "    This function computes the Item-Based approach to recommend a movie.\n",
    "    It takes as input a database, the similarity score of the movies (already pre-computed) and an user, and tries to predict what movies will be recommended.\n",
    "    \"\"\"\n",
    "    # Get the ratings that the user (specified as a parameter) gave to the movies watched by him/her    \n",
    "    user_ratings = data[user]\n",
    "\n",
    "    ratings = {}\n",
    "    total_similarity = {}\n",
    "\n",
    "    # Get the movies in the database that the user (specified as a parameter) attributed a rating\n",
    "    for (movie, rating) in user_ratings.items():\n",
    "        # Calculates the similarity of the movies watched by the user with the other movies in the database\n",
    "        for (similarity, movie2) in movies_similarity[movie]:\n",
    "            # Do not calculate the similiraty of a movie with itself\n",
    "            if movie2 in user_ratings:\n",
    "                continue\n",
    "            # Attribute a rate to the movies that the user didn't watch\n",
    "            ratings.setdefault(movie2, 0)\n",
    "            # Multiplies the similarity of a given movie with the ratings given by the user\n",
    "            ratings[movie2] += similarity * rating \n",
    "            # Calculates the similarity of all the movies\n",
    "            total_similarity.setdefault(movie2, 0)\n",
    "            total_similarity[movie2] += similarity\n",
    "    \n",
    "    # Returns the predicted rating for the movies, in order to recommend a movie\n",
    "    rankings = [(score / total_similarity[movie], movie) for movie, score in ratings.items()]\n",
    "    rankings.sort()\n",
    "    rankings.reverse()\n",
    "    return rankings[:10]"
   ]
  },
  {
   "cell_type": "code",
   "execution_count": 39,
   "metadata": {},
   "outputs": [
    {
     "data": {
      "text/html": [
       "<div>\n",
       "<style scoped>\n",
       "    .dataframe tbody tr th:only-of-type {\n",
       "        vertical-align: middle;\n",
       "    }\n",
       "\n",
       "    .dataframe tbody tr th {\n",
       "        vertical-align: top;\n",
       "    }\n",
       "\n",
       "    .dataframe thead th {\n",
       "        text-align: right;\n",
       "    }\n",
       "</style>\n",
       "<table border=\"1\" class=\"dataframe\">\n",
       "  <thead>\n",
       "    <tr style=\"text-align: right;\">\n",
       "      <th></th>\n",
       "      <th>Similarity</th>\n",
       "      <th>Movie Recommendations</th>\n",
       "    </tr>\n",
       "  </thead>\n",
       "  <tbody>\n",
       "    <tr>\n",
       "      <th>0</th>\n",
       "      <td>5.0</td>\n",
       "      <td>Zookeeper (2011)</td>\n",
       "    </tr>\n",
       "    <tr>\n",
       "      <th>1</th>\n",
       "      <td>5.0</td>\n",
       "      <td>Winter in Prostokvashino (1984)</td>\n",
       "    </tr>\n",
       "    <tr>\n",
       "      <th>2</th>\n",
       "      <td>5.0</td>\n",
       "      <td>Winnie the Pooh and the Day of Concern (1972)</td>\n",
       "    </tr>\n",
       "    <tr>\n",
       "      <th>3</th>\n",
       "      <td>5.0</td>\n",
       "      <td>Winnie the Pooh Goes Visiting (1971)</td>\n",
       "    </tr>\n",
       "    <tr>\n",
       "      <th>4</th>\n",
       "      <td>5.0</td>\n",
       "      <td>Winnie Pooh (1969)</td>\n",
       "    </tr>\n",
       "    <tr>\n",
       "      <th>5</th>\n",
       "      <td>5.0</td>\n",
       "      <td>Wings, Legs and Tails (1986)</td>\n",
       "    </tr>\n",
       "    <tr>\n",
       "      <th>6</th>\n",
       "      <td>5.0</td>\n",
       "      <td>Wild Wild West (1999)</td>\n",
       "    </tr>\n",
       "    <tr>\n",
       "      <th>7</th>\n",
       "      <td>5.0</td>\n",
       "      <td>Wild Hogs (2007)</td>\n",
       "    </tr>\n",
       "    <tr>\n",
       "      <th>8</th>\n",
       "      <td>5.0</td>\n",
       "      <td>Wanted (2008)</td>\n",
       "    </tr>\n",
       "    <tr>\n",
       "      <th>9</th>\n",
       "      <td>5.0</td>\n",
       "      <td>Wake Up, Ron Burgundy (2004)</td>\n",
       "    </tr>\n",
       "  </tbody>\n",
       "</table>\n",
       "</div>"
      ],
      "text/plain": [
       "   Similarity                          Movie Recommendations\n",
       "0         5.0                               Zookeeper (2011)\n",
       "1         5.0                Winter in Prostokvashino (1984)\n",
       "2         5.0  Winnie the Pooh and the Day of Concern (1972)\n",
       "3         5.0           Winnie the Pooh Goes Visiting (1971)\n",
       "4         5.0                             Winnie Pooh (1969)\n",
       "5         5.0                   Wings, Legs and Tails (1986)\n",
       "6         5.0                          Wild Wild West (1999)\n",
       "7         5.0                               Wild Hogs (2007)\n",
       "8         5.0                                  Wanted (2008)\n",
       "9         5.0                   Wake Up, Ron Burgundy (2004)"
      ]
     },
     "execution_count": 39,
     "metadata": {},
     "output_type": "execute_result"
    }
   ],
   "source": [
    "# Returns the top 10 most recommended movies for the user 10 using the Item-Based approach\n",
    "movies_user10_ib = get_recommended_movies_ib(users_dict, similar_movies, 10.0)\n",
    "pd.DataFrame(movies_user10_ib, columns = ['Similarity', 'Movie Recommendations'])"
   ]
  }
 ],
 "metadata": {
  "kernelspec": {
   "display_name": "Python 3",
   "language": "python",
   "name": "python3"
  },
  "language_info": {
   "codemirror_mode": {
    "name": "ipython",
    "version": 3
   },
   "file_extension": ".py",
   "mimetype": "text/x-python",
   "name": "python",
   "nbconvert_exporter": "python",
   "pygments_lexer": "ipython3",
   "version": "3.12.3"
  }
 },
 "nbformat": 4,
 "nbformat_minor": 2
}
